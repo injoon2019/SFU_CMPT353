{
 "cells": [
  {
   "cell_type": "code",
   "execution_count": 1,
   "metadata": {},
   "outputs": [],
   "source": [
    "import pandas as pd"
   ]
  },
  {
   "cell_type": "code",
   "execution_count": 7,
   "metadata": {},
   "outputs": [],
   "source": [
    "totals = pd.read_csv('totals.csv').set_index(keys=['name'])"
   ]
  },
  {
   "cell_type": "code",
   "execution_count": 4,
   "metadata": {},
   "outputs": [],
   "source": [
    "counts = pd.read_csv('counts.csv').set_index(keys=['name'])"
   ]
  },
  {
   "cell_type": "code",
   "execution_count": 14,
   "metadata": {},
   "outputs": [
    {
     "data": {
      "text/plain": [
       "name\n",
       "BURNABY SIMON FRASER U            12948\n",
       "CALGARY INTL A                     5203\n",
       "GANDER INTL A                     14568\n",
       "HALIFAX INTL A                    15086\n",
       "REVELSTOKE                         8451\n",
       "SHERBROOKE                         8549\n",
       "TORONTO LESTER B. PEARSON INT'     6378\n",
       "VANCOUVER INTL A                  13148\n",
       "YELLOWKNIFE A                      2234\n",
       "dtype: int64"
      ]
     },
     "execution_count": 14,
     "metadata": {},
     "output_type": "execute_result"
    }
   ],
   "source": [
    "totals.sum(1)"
   ]
  },
  {
   "cell_type": "code",
   "execution_count": 16,
   "metadata": {},
   "outputs": [
    {
     "name": "stdout",
     "output_type": "stream",
     "text": [
      "City with lowest total precipitation:\n"
     ]
    },
    {
     "data": {
      "text/plain": [
       "'YELLOWKNIFE A'"
      ]
     },
     "execution_count": 16,
     "metadata": {},
     "output_type": "execute_result"
    }
   ],
   "source": [
    "print(\"City with lowest total precipitation:\")\n",
    "totals.sum(axis=1).idxmin()"
   ]
  },
  {
   "cell_type": "code",
   "execution_count": 20,
   "metadata": {
    "scrolled": true
   },
   "outputs": [
    {
     "name": "stdout",
     "output_type": "stream",
     "text": [
      "Average precipitation in each month:\n"
     ]
    },
    {
     "data": {
      "text/plain": [
       "2016-01    27.779783\n",
       "2016-02    30.426295\n",
       "2016-03    29.410072\n",
       "2016-04    17.966543\n",
       "2016-05    21.344569\n",
       "2016-06    20.694981\n",
       "2016-07    24.977186\n",
       "2016-08    19.856618\n",
       "2016-09    24.065637\n",
       "2016-10    44.684411\n",
       "2016-11    34.615686\n",
       "2016-12    32.366795\n",
       "dtype: float64"
      ]
     },
     "execution_count": 20,
     "metadata": {},
     "output_type": "execute_result"
    }
   ],
   "source": [
    "print(\"Average precipitation in each month:\")\n",
    "totals.sum(axis=0).div(counts.sum(axis=0))"
   ]
  },
  {
   "cell_type": "code",
   "execution_count": 21,
   "metadata": {},
   "outputs": [
    {
     "name": "stdout",
     "output_type": "stream",
     "text": [
      "Average precipitation in each city:\n"
     ]
    },
    {
     "data": {
      "text/plain": [
       "name\n",
       "BURNABY SIMON FRASER U            47.778598\n",
       "CALGARY INTL A                    14.333333\n",
       "GANDER INTL A                     39.912329\n",
       "HALIFAX INTL A                    41.445055\n",
       "REVELSTOKE                        23.409972\n",
       "SHERBROOKE                        23.681440\n",
       "TORONTO LESTER B. PEARSON INT'    17.521978\n",
       "VANCOUVER INTL A                  36.522222\n",
       "YELLOWKNIFE A                      6.154270\n",
       "dtype: float64"
      ]
     },
     "execution_count": 21,
     "metadata": {},
     "output_type": "execute_result"
    }
   ],
   "source": [
    "print(\"Average precipitation in each city:\")\n",
    "totals.sum(axis=1).div(counts.sum(axis=1))"
   ]
  },
  {
   "cell_type": "code",
   "execution_count": null,
   "metadata": {},
   "outputs": [],
   "source": []
  }
 ],
 "metadata": {
  "kernelspec": {
   "display_name": "Python 3",
   "language": "python",
   "name": "python3"
  },
  "language_info": {
   "codemirror_mode": {
    "name": "ipython",
    "version": 3
   },
   "file_extension": ".py",
   "mimetype": "text/x-python",
   "name": "python",
   "nbconvert_exporter": "python",
   "pygments_lexer": "ipython3",
   "version": "3.7.6"
  }
 },
 "nbformat": 4,
 "nbformat_minor": 4
}
