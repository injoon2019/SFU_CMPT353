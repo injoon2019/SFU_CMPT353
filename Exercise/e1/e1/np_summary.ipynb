{
 "cells": [
  {
   "cell_type": "code",
   "execution_count": 3,
   "metadata": {},
   "outputs": [],
   "source": [
    "import numpy as np"
   ]
  },
  {
   "cell_type": "code",
   "execution_count": 4,
   "metadata": {},
   "outputs": [],
   "source": [
    "data = np.load('monthdata.npz')\n",
    "totals = data['totals']\n",
    "counts = data['counts']"
   ]
  },
  {
   "cell_type": "code",
   "execution_count": 5,
   "metadata": {},
   "outputs": [
    {
     "name": "stdout",
     "output_type": "stream",
     "text": [
      "Row with lowest total precipitation:\n",
      "8\n"
     ]
    }
   ],
   "source": [
    "#numpy.argmin(a, axis = None, out=None) returns the indicies of the minimum values along an axis\n",
    "#axis = 0 means column and axis = 1 means row\n",
    "lowest_precipitation = np.argmin(np.sum(totals, 1))\n",
    "print('Row with lowest total precipitation:')\n",
    "print(lowest_precipitation)"
   ]
  },
  {
   "cell_type": "code",
   "execution_count": 53,
   "metadata": {},
   "outputs": [
    {
     "name": "stdout",
     "output_type": "stream",
     "text": [
      "[27.77978339 30.42629482 29.41007194 17.96654275 21.34456929 20.69498069\n",
      " 24.97718631 19.85661765 24.06563707 44.68441065 34.61568627 32.36679537]\n"
     ]
    }
   ],
   "source": [
    "average_precipitation = np.divide(np.sum(totals, 0), np.sum(counts, 0)) \n",
    "print(average_precipitation)"
   ]
  },
  {
   "cell_type": "code",
   "execution_count": 54,
   "metadata": {},
   "outputs": [
    {
     "name": "stdout",
     "output_type": "stream",
     "text": [
      "[47.77859779 14.33333333 39.91232877 41.44505495 23.4099723  23.68144044\n",
      " 17.52197802 36.52222222  6.15426997]\n"
     ]
    }
   ],
   "source": [
    "average_precipitation_city = np.divide(np.sum(totals,1), np.sum(counts, 1))\n",
    "print(\"Average precipitation in each city:\")\n",
    "print(average_precipitation_city)\n"
   ]
  },
  {
   "cell_type": "code",
   "execution_count": 6,
   "metadata": {},
   "outputs": [
    {
     "name": "stdout",
     "output_type": "stream",
     "text": [
      "Quarterly precipitation totals:\n",
      "[[5450 1408 1466 4624]\n",
      " [ 189 1339 3148  527]\n",
      " [3120 3357 3386 4705]\n",
      " [4416 3321 2024 5325]\n",
      " [2024 1498 1721 3208]\n",
      " [1786 1809 2557 2397]\n",
      " [1583 1296 1729 1770]\n",
      " [4602 1340 1250 5956]\n",
      " [ 338  524  922  450]]\n"
     ]
    }
   ],
   "source": [
    "#Review!\n",
    "#each_quarter = np.reshape(totals, (len(totals) ,4,3))\n",
    "each_quarter = np.reshape(totals, (len(totals) ,4,3)).sum(axis=2)\n",
    "print(\"Quarterly precipitation totals:\")\n",
    "print(each_quarter)"
   ]
  }
 ],
 "metadata": {
  "kernelspec": {
   "display_name": "Python 3",
   "language": "python",
   "name": "python3"
  },
  "language_info": {
   "codemirror_mode": {
    "name": "ipython",
    "version": 3
   },
   "file_extension": ".py",
   "mimetype": "text/x-python",
   "name": "python",
   "nbconvert_exporter": "python",
   "pygments_lexer": "ipython3",
   "version": "3.7.6"
  }
 },
 "nbformat": 4,
 "nbformat_minor": 4
}
